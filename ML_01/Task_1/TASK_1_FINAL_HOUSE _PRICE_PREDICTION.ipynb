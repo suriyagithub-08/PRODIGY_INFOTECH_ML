{
 "cells": [
  {
   "cell_type": "code",
   "execution_count": 1,
   "id": "8a2e894c-7603-4a1d-a902-df50c384f906",
   "metadata": {},
   "outputs": [
    {
     "name": "stdout",
     "output_type": "stream",
     "text": [
      "Predictions saved to new_predictions.csv\n"
     ]
    }
   ],
   "source": [
    "### THIS CODE PREDICTS USING WHOLE FEATURES FROM THE DATA SET\n",
    "\n",
    "import pandas as pd\n",
    "from sklearn.linear_model import LinearRegression\n",
    "from sklearn.impute import SimpleImputer\n",
    "\n",
    "# Load train and test data from CSV files\n",
    "train_df = pd.read_csv(r\"C:\\Users\\suriya\\Downloads\\house-prices-advanced-regression-techniques\\train.csv\")\n",
    "test_df = pd.read_csv(r\"C:\\Users\\suriya\\Downloads\\house-prices-advanced-regression-techniques\\test.csv\")\n",
    "\n",
    "# One-hot encoding categorical variables\n",
    "train_df = pd.get_dummies(train_df)\n",
    "test_df = pd.get_dummies(test_df)\n",
    "\n",
    "# Aligning train and test data after one-hot encoding\n",
    "train_df, test_df = train_df.align(test_df, join='left', axis=1)  # Ensure train and test have the same columns\n",
    "\n",
    "# Selecting all features except the target variable for training\n",
    "X_train = train_df.drop(columns=['SalePrice'])\n",
    "\n",
    "# Extracting the target variable for training\n",
    "y_train = train_df['SalePrice']\n",
    "\n",
    "# Selecting all features for testing and removing 'SalePrice'\n",
    "X_test = test_df.drop(columns=['SalePrice'])\n",
    "\n",
    "# Impute missing values\n",
    "imputer = SimpleImputer(strategy='mean')\n",
    "X_train_imputed = imputer.fit_transform(X_train)\n",
    "X_test_imputed = imputer.transform(X_test)\n",
    "\n",
    "# Creating a Linear Regression model\n",
    "model = LinearRegression()\n",
    "\n",
    "# Training the model\n",
    "model.fit(X_train_imputed, y_train)\n",
    "\n",
    "# Making predictions on the test set\n",
    "predictions = model.predict(X_test_imputed)\n",
    "\n",
    "# Adding predictions to the test DataFrame\n",
    "test_df['PredictedSalePrice'] = predictions\n",
    "\n",
    "# Saving predictions to a CSV file\n",
    "test_df.to_csv('new_predictions.csv', index=False)\n",
    "\n",
    "print(\"Predictions saved to new_predictions.csv\")\n"
   ]
  },
  {
   "cell_type": "code",
   "execution_count": 5,
   "id": "6ddd5195-3c7e-462c-83e7-57c8adbe4644",
   "metadata": {},
   "outputs": [
    {
     "name": "stdout",
     "output_type": "stream",
     "text": [
      "Categorical Columns:\n",
      "Index([], dtype='object')\n"
     ]
    }
   ],
   "source": [
    "# Identify categorical columns\n",
    "categorical_columns = train_df.select_dtypes(include=['object']).columns\n",
    "print(\"Categorical Columns:\")\n",
    "print(categorical_columns)\n"
   ]
  },
  {
   "cell_type": "code",
   "execution_count": 4,
   "id": "fcaf5fe7-f5a0-4e9d-b580-913fa5a65eb6",
   "metadata": {},
   "outputs": [
    {
     "name": "stdout",
     "output_type": "stream",
     "text": [
      "Predictions saved to new_predictions.csv\n"
     ]
    }
   ],
   "source": [
    "# THIS CODE USES ONLY \n",
    "#Implement a linear regression model to predict the prices of houses based on their \n",
    "#square footage and the number of bedrooms and bathrooms\n",
    "import pandas as pd\n",
    "from sklearn.linear_model import LinearRegression\n",
    "\n",
    "# Load train and test data from CSV files\n",
    "train_df = pd.read_csv(r\"C:\\Users\\suriya\\Downloads\\house-prices-advanced-regression-techniques\\train.csv\")\n",
    "test_df = pd.read_csv(r\"C:\\Users\\suriya\\Downloads\\house-prices-advanced-regression-techniques\\test.csv\")\n",
    "\n",
    "# Selecting relevant features for training\n",
    "X_train = train_df[['GrLivArea', 'BedroomAbvGr', 'FullBath', 'HalfBath']]\n",
    "y_train = train_df['SalePrice']\n",
    "\n",
    "# Selecting relevant features for testing\n",
    "X_test = test_df[['GrLivArea', 'BedroomAbvGr', 'FullBath', 'HalfBath']]\n",
    "\n",
    "# Creating a Linear Regression model\n",
    "model = LinearRegression()\n",
    "\n",
    "# Training the model\n",
    "model.fit(X_train, y_train)\n",
    "\n",
    "# Making predictions on the test set\n",
    "predictions = model.predict(X_test)\n",
    "\n",
    "# Adding predictions to the test DataFrame\n",
    "test_df['PredictedSalePrice'] = predictions\n",
    "\n",
    "# Saving predictions to a CSV file\n",
    "test_df.to_csv('new_predictions_1.csv', index=False)\n",
    "\n",
    "print(\"Predictions saved to new_predictions.csv\")\n"
   ]
  },
  {
   "cell_type": "code",
   "execution_count": null,
   "id": "9e78d4a8-7335-44bf-899d-dd230339868d",
   "metadata": {},
   "outputs": [],
   "source": []
  }
 ],
 "metadata": {
  "kernelspec": {
   "display_name": "Python 3 (ipykernel)",
   "language": "python",
   "name": "python3"
  },
  "language_info": {
   "codemirror_mode": {
    "name": "ipython",
    "version": 3
   },
   "file_extension": ".py",
   "mimetype": "text/x-python",
   "name": "python",
   "nbconvert_exporter": "python",
   "pygments_lexer": "ipython3",
   "version": "3.10.13"
  }
 },
 "nbformat": 4,
 "nbformat_minor": 5
}
